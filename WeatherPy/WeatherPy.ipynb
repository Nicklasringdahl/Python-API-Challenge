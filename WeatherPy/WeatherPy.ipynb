{
 "cells": [
  {
   "cell_type": "markdown",
   "metadata": {},
   "source": [
    "# WeatherPy\n",
    "----\n",
    "\n",
    "#### Note\n",
    "* Instructions have been included for each segment. You do not have to follow them exactly, but they are included to help you think through the steps."
   ]
  },
  {
   "cell_type": "code",
   "execution_count": null,
   "metadata": {
    "scrolled": true
   },
   "outputs": [],
   "source": [
    "import citipy as cpy\n",
    "from citipy import citipy\n",
    "import pandas as pd\n",
    "import numpy as np\n",
    "import json \n",
    "import requests\n",
    "import matplotlib.pyplot as plt\n",
    "from api_keys import w_api\n",
    "from pprint import pprint\n",
    "import scipy.stats as st"
   ]
  },
  {
   "cell_type": "markdown",
   "metadata": {},
   "source": [
    "## Generate Cities List"
   ]
  },
  {
   "cell_type": "code",
   "execution_count": null,
   "metadata": {},
   "outputs": [],
   "source": [
    "cities_df=pd.DataFrame({\"Longitude\":np.random.uniform(-180,180,1400), \"Latitude\":np.random.uniform(-90,90,1400)})\n",
    "cities_name=[]\n",
    "countrycode=[]\n",
    "for i in range(0,len(cities_df['Latitude'])):\n",
    "    lat=cities_df.iloc[i]['Latitude']\n",
    "    long=cities_df.iloc[i][\"Longitude\"]\n",
    "    city=citipy.nearest_city(lat,long)\n",
    "    name=city.city_name\n",
    "    cities_name.append(name)\n",
    "    country=city.country_code\n",
    "    countrycode.append(country)\n",
    "    \n",
    "cities_df['City Name']=cities_name\n",
    "cities_df['Country']=countrycode\n",
    "cities_df.head(10)"
   ]
  },
  {
   "cell_type": "markdown",
   "metadata": {},
   "source": [
    "### Perform API Calls\n",
    "* Perform a weather check on each city using a series of successive API calls.\n",
    "* Include a print log of each city as it'sbeing processed (with the city number and city name).\n"
   ]
  },
  {
   "cell_type": "code",
   "execution_count": null,
   "metadata": {},
   "outputs": [],
   "source": [
    "cities_df = cities_df.drop_duplicates(\"City Name\", keep='first')\n",
    "cities_df.reset_index(drop=True, inplace=True)\n",
    "cities_df"
   ]
  },
  {
   "cell_type": "code",
   "execution_count": null,
   "metadata": {},
   "outputs": [],
   "source": [
    "Temp = []\n",
    "Humidity = []\n",
    "Wind_speed = []\n",
    "Cloudiness = []\n",
    "Longitude = []\n",
    "Latitude = []"
   ]
  },
  {
   "cell_type": "code",
   "execution_count": null,
   "metadata": {},
   "outputs": [],
   "source": []
  },
  {
   "cell_type": "code",
   "execution_count": null,
   "metadata": {
    "scrolled": true
   },
   "outputs": [],
   "source": [
    "url = \"http://api.openweathermap.org/data/2.5/weather?\"\n",
    "city = cities_df[\"City Name\"]\n",
    "\n",
    "for c in city:\n",
    "    query_url = url + \"appid=\" + w_api + \"&q=\" + c.replace(\" \",\"+\") + \"&units=metric\"\n",
    "    response = requests.get(query_url).json()\n",
    "    \n",
    "    \n",
    "    try:\n",
    "        Temp.append(response[\"main\"][\"temp_max\"]) \n",
    "        Humidity.append(response[\"main\"][\"humidity\"]) \n",
    "        Wind_speed.append(response[\"wind\"][\"speed\"]) \n",
    "        Cloudiness.append(response[\"clouds\"][\"all\"])\n",
    "        Longitude.append(response[\"coord\"][\"lon\"])\n",
    "        Latitude.append(response[\"coord\"][\"lat\"])\n",
    "        print(\"Retrieving data for \" + response[\"name\"])\n",
    "    except:\n",
    "        Longitude.append(None)\n",
    "        Latitude.append(None)\n",
    "        Temp.append(None)\n",
    "        Humidity.append(None)\n",
    "        Wind_speed.append(None)\n",
    "        Cloudiness.append(None)\n",
    "        print(\"Missing city weather data.......skipping\")  \n"
   ]
  },
  {
   "cell_type": "markdown",
   "metadata": {},
   "source": [
    "### Convert Raw Data to DataFrame\n",
    "* Export the city data into a .csv.\n",
    "* Display the DataFrame"
   ]
  },
  {
   "cell_type": "code",
   "execution_count": null,
   "metadata": {},
   "outputs": [],
   "source": [
    "#Drop Longitude and Latitude of cities before replacing them with the actual values.\n",
    "cities_df.drop('Longitude',axis = 1, inplace = True)\n",
    "cities_df.drop('Latitude',axis = 1, inplace = True)"
   ]
  },
  {
   "cell_type": "code",
   "execution_count": null,
   "metadata": {},
   "outputs": [],
   "source": [
    "cities_df[\"Longitude\"] = Longitude\n",
    "cities_df[\"Latitude\"] = Latitude\n",
    "cities_df[\"Max Temp\"] = Temp\n",
    "cities_df[\"Humidity\"] = Humidity\n",
    "cities_df[\"Wind speed\"] = Wind_speed\n",
    "cities_df[\"Cloudiness\"] = Cloudiness\n"
   ]
  },
  {
   "cell_type": "code",
   "execution_count": null,
   "metadata": {},
   "outputs": [],
   "source": [
    "cities_df.dropna(inplace=True)\n",
    "cities_df.reset_index(drop=True, inplace=True)\n",
    "cities_df.to_csv('WeatherPy_Data.csv')"
   ]
  },
  {
   "cell_type": "code",
   "execution_count": null,
   "metadata": {},
   "outputs": [],
   "source": [
    "cities_df[\"Humidity\"] = pd.to_numeric(cities_df[\"Humidity\"], errors='coerce')\n",
    "cities_df[\"Max Temp\"] = pd.to_numeric(cities_df[\"Max Temp\"], errors='coerce')\n",
    "cities_df[\"Wind Speed\"] = pd.to_numeric(cities_df[\"Wind speed\"], errors='coerce')\n",
    "cities_df[\"Cloudiness\"] = pd.to_numeric(cities_df[\"Cloudiness\"], errors='coerce')\n"
   ]
  },
  {
   "cell_type": "markdown",
   "metadata": {},
   "source": [
    "## Inspect the data and remove the cities where the humidity > 100%.\n",
    "----\n",
    "Skip this step if there are no cities that have humidity > 100%. "
   ]
  },
  {
   "cell_type": "code",
   "execution_count": null,
   "metadata": {},
   "outputs": [],
   "source": [
    "#  Get the indices of cities that have humidity over 100%.\n"
   ]
  },
  {
   "cell_type": "code",
   "execution_count": null,
   "metadata": {},
   "outputs": [],
   "source": [
    "# Make a new DataFrame equal to the city data to drop all humidity outliers by index.\n",
    "# Passing \"inplace=False\" will make a copy of the city_data DataFrame, which we call \"clean_city_data\".\n"
   ]
  },
  {
   "cell_type": "markdown",
   "metadata": {},
   "source": [
    "## Plotting the Data\n",
    "* Use proper labeling of the plots using plot titles (including date of analysis) and axes labels.\n",
    "* Save the plotted figures as .pngs."
   ]
  },
  {
   "cell_type": "markdown",
   "metadata": {},
   "source": [
    "## Latitude vs. Temperature Plot"
   ]
  },
  {
   "cell_type": "code",
   "execution_count": null,
   "metadata": {
    "scrolled": true
   },
   "outputs": [],
   "source": [
    "x_val = cities_df[\"Latitude\"]\n",
    "y_val = cities_df[\"Max Temp\"]\n",
    "\n",
    "slope, intercept, regress, p, std_err = st.linregress(x_val,y_val)\n",
    "\n",
    "regress_values = x_val * slope + intercept\n",
    "\n",
    "Equation = \"y = \" + str(round(slope,2)) + \"x + \" + str(round(intercept,2))\n",
    "\n",
    "plt.scatter(x_val,y_val)\n",
    "\n",
    "plt.plot(x_val,regress_values,\"g-\")\n",
    "\n",
    "plt.xlabel(\"Latitude\")\n",
    "\n",
    "plt.ylabel(\"Max Temp (c)\")\n",
    "\n",
    "plt.title(\"City Latitude vs. Max Temperature (c)\")\n",
    "\n",
    "plt.annotate(Equation,(-25,0),fontsize=15,color=\"green\")\n",
    "\n",
    "plt.show()"
   ]
  },
  {
   "cell_type": "markdown",
   "metadata": {},
   "source": [
    "## Latitude vs. Humidity Plot"
   ]
  },
  {
   "cell_type": "code",
   "execution_count": null,
   "metadata": {},
   "outputs": [],
   "source": [
    "x_val = cities_df[\"Latitude\"]\n",
    "y_val = cities_df[\"Humidity\"]\n",
    "\n",
    "slope, intercept, regress, p, std_err = st.linregress(x_val,y_val)\n",
    "\n",
    "regress_values = x_val * slope + intercept\n",
    "\n",
    "Equation = \"y = \" + str(round(slope,2)) + \"x + \" + str(round(intercept,2))\n",
    "\n",
    "plt.scatter(x_val,y_val)\n",
    "\n",
    "#plt.plot(x_val,regress_values,\"g-\")\n",
    "\n",
    "plt.xlabel(\"Latitude\")\n",
    "\n",
    "plt.ylabel(\"Humidity (%)\")\n",
    "\n",
    "plt.title(\"City Latitude vs. Humidity (%)\")\n",
    "\n",
    "plt.annotate(Equation,(20,36),fontsize=15,color=\"green\")\n",
    "\n",
    "plt.show()"
   ]
  },
  {
   "cell_type": "markdown",
   "metadata": {},
   "source": [
    "## Latitude vs. Cloudiness Plot"
   ]
  },
  {
   "cell_type": "code",
   "execution_count": null,
   "metadata": {},
   "outputs": [],
   "source": [
    "x_val = cities_df[\"Latitude\"]\n",
    "y_val = cities_df[\"Cloudiness\"]\n",
    "\n",
    "slope, intercept, regress, p, std_err = st.linregress(x_val,y_val)\n",
    "\n",
    "regress_values = x_val * slope + intercept\n",
    "\n",
    "Equation = \"y = \" + str(round(slope,2)) + \"x + \" + str(round(intercept,2))\n",
    "\n",
    "plt.scatter(x_val,y_val)\n",
    "\n",
    "plt.plot(x_val,regress_values,\"g-\")\n",
    "\n",
    "plt.xlabel(\"Latitude\")\n",
    "\n",
    "plt.ylabel(\"Cloudiness (%)\")\n",
    "\n",
    "plt.title(\"City Latitude vs. Cloudiness (%)\")\n",
    "\n",
    "plt.annotate(Equation,(20,36),fontsize=15,color=\"green\")\n",
    "\n",
    "plt.show()"
   ]
  },
  {
   "cell_type": "markdown",
   "metadata": {},
   "source": [
    "## Latitude vs. Wind Speed Plot"
   ]
  },
  {
   "cell_type": "code",
   "execution_count": null,
   "metadata": {},
   "outputs": [],
   "source": [
    "x_val = cities_df[\"Latitude\"]\n",
    "y_val = cities_df[\"Wind Speed\"]\n",
    "\n",
    "slope, intercept, regress, p, std_err = st.linregress(x_val,y_val)\n",
    "\n",
    "regress_values = x_val * slope + intercept\n",
    "\n",
    "Equation = \"y = \" + str(round(slope,2)) + \"x + \" + str(round(intercept,2))\n",
    "\n",
    "plt.scatter(x_val,y_val)\n",
    "\n",
    "plt.plot(x_val,regress_values,\"g-\")\n",
    "\n",
    "plt.xlabel(\"Latitude\")\n",
    "\n",
    "plt.ylabel(\"Wind Speed (mph)\")\n",
    "\n",
    "plt.title(\"City Latitude vs. Wind Speed (mph)\")\n",
    "\n",
    "plt.annotate(Equation,(20,36),fontsize=15,color=\"green\")\n",
    "\n",
    "plt.show()"
   ]
  },
  {
   "cell_type": "markdown",
   "metadata": {},
   "source": [
    "## Linear Regression"
   ]
  },
  {
   "cell_type": "code",
   "execution_count": null,
   "metadata": {},
   "outputs": [],
   "source": [
    "North, South = cities_df[(mask:=cities_df['Latitude'] >0 )], cities_df[~mask]"
   ]
  },
  {
   "cell_type": "markdown",
   "metadata": {},
   "source": [
    "####  Northern Hemisphere - Max Temp vs. Latitude Linear Regression"
   ]
  },
  {
   "cell_type": "code",
   "execution_count": null,
   "metadata": {},
   "outputs": [],
   "source": [
    "x_val = North[\"Latitude\"]\n",
    "y_val = North[\"Max Temp\"]\n",
    "\n",
    "slope, intercept, regress, p, std_err = st.linregress(x_val,y_val)\n",
    "\n",
    "regress_values = x_val * slope + intercept\n",
    "\n",
    "Equation = \"y = \" + str(round(slope,2)) + \"x + \" + str(round(intercept,2))\n",
    "\n",
    "plt.scatter(x_val,y_val)\n",
    "\n",
    "plt.plot(x_val,regress_values,\"g-\")\n",
    "\n",
    "plt.xlabel(\"Latitude\")\n",
    "\n",
    "plt.ylabel(\"Max Temp (c)\")\n",
    "\n",
    "plt.title(\"City Latitude vs. Max Temp (c)\")\n",
    "\n",
    "plt.annotate(Equation,(10,5),fontsize=15,color=\"green\")\n",
    "\n",
    "plt.show()"
   ]
  },
  {
   "cell_type": "code",
   "execution_count": null,
   "metadata": {},
   "outputs": [],
   "source": [
    "x_val = South[\"Latitude\"]\n",
    "y_val = South[\"Max Temp\"]\n",
    "\n",
    "slope, intercept, regress, p, std_err = st.linregress(x_val,y_val)\n",
    "\n",
    "regress_values = x_val * slope + intercept\n",
    "\n",
    "Equation = \"y = \" + str(round(slope,2)) + \"x + \" + str(round(intercept,2))\n",
    "\n",
    "plt.scatter(x_val,y_val)\n",
    "\n",
    "plt.plot(x_val,regress_values,\"g-\")\n",
    "\n",
    "plt.xlabel(\"Latitude\")\n",
    "\n",
    "plt.ylabel(\"Max Temp (c)\")\n",
    "\n",
    "plt.title(\"Southern - City Latitude vs. Max Temp (c)\")\n",
    "\n",
    "plt.annotate(Equation,(20,36),fontsize=15,color=\"green\")\n",
    "\n",
    "plt.show()"
   ]
  },
  {
   "cell_type": "markdown",
   "metadata": {},
   "source": [
    "####  Southern Hemisphere - Max Temp vs. Latitude Linear Regression"
   ]
  },
  {
   "cell_type": "code",
   "execution_count": null,
   "metadata": {},
   "outputs": [],
   "source": [
    "North"
   ]
  },
  {
   "cell_type": "markdown",
   "metadata": {},
   "source": [
    "####  Northern Hemisphere - Humidity (%) vs. Latitude Linear Regression"
   ]
  },
  {
   "cell_type": "code",
   "execution_count": null,
   "metadata": {},
   "outputs": [],
   "source": [
    "x_val = North[\"Latitude\"]\n",
    "y_val = North[\"Humidity\"]\n",
    "\n",
    "slope, intercept, regress, p, std_err = st.linregress(x_val,y_val)\n",
    "\n",
    "regress_values = x_val * slope + intercept\n",
    "\n",
    "Equation = \"y = \" + str(round(slope,2)) + \"x + \" + str(round(intercept,2))\n",
    "\n",
    "plt.scatter(x_val,y_val)\n",
    "\n",
    "plt.plot(x_val,regress_values,\"g-\")\n",
    "\n",
    "plt.xlabel(\"Latitude\")\n",
    "\n",
    "plt.ylabel(\"Humidity (%)\")\n",
    "\n",
    "plt.title(\"City Latitude vs. Humidity (%)\")\n",
    "\n",
    "plt.annotate(Equation,(10,40),fontsize=15,color=\"green\")\n",
    "\n",
    "plt.show()"
   ]
  },
  {
   "cell_type": "markdown",
   "metadata": {},
   "source": [
    "####  Southern Hemisphere - Humidity (%) vs. Latitude Linear Regression"
   ]
  },
  {
   "cell_type": "code",
   "execution_count": null,
   "metadata": {},
   "outputs": [],
   "source": []
  },
  {
   "cell_type": "code",
   "execution_count": null,
   "metadata": {},
   "outputs": [],
   "source": [
    "x_val = South[\"Latitude\"]\n",
    "y_val = South[\"Humidity\"]\n",
    "\n",
    "slope, intercept, regress, p, std_err = st.linregress(x_val,y_val)\n",
    "\n",
    "regress_values = x_val * slope + intercept\n",
    "\n",
    "Equation = \"y = \" + str(round(slope,2)) + \"x + \" + str(round(intercept,2))\n",
    "\n",
    "plt.scatter(x_val,y_val)\n",
    "\n",
    "plt.plot(x_val,regress_values,\"g-\")\n",
    "\n",
    "plt.xlabel(\"Latitude\")\n",
    "\n",
    "plt.ylabel(\"Humidity (%)\")\n",
    "\n",
    "plt.title(\"Southern - City Latitude vs. Humidity (%)\")\n",
    "\n",
    "plt.annotate(Equation,(-80,36),fontsize=15,color=\"green\")\n",
    "\n",
    "plt.show()"
   ]
  },
  {
   "cell_type": "markdown",
   "metadata": {},
   "source": [
    "####  Northern Hemisphere - Cloudiness (%) vs. Latitude Linear Regression"
   ]
  },
  {
   "cell_type": "code",
   "execution_count": null,
   "metadata": {},
   "outputs": [],
   "source": [
    "x_val = North[\"Latitude\"]\n",
    "y_val = North[\"Cloudiness\"]\n",
    "\n",
    "slope, intercept, regress, p, std_err = st.linregress(x_val,y_val)\n",
    "\n",
    "regress_values = x_val * slope + intercept\n",
    "\n",
    "Equation = \"y = \" + str(round(slope,2)) + \"x + \" + str(round(intercept,2))\n",
    "\n",
    "plt.scatter(x_val,y_val)\n",
    "\n",
    "plt.plot(x_val,regress_values,\"g-\")\n",
    "\n",
    "plt.xlabel(\"Latitude\")\n",
    "\n",
    "plt.ylabel(\"Cloudiness (%)\")\n",
    "\n",
    "plt.title(\"City Latitude vs. Cloudiness (%)\")\n",
    "\n",
    "plt.annotate(Equation,(20,36),fontsize=15,color=\"green\")\n",
    "\n",
    "plt.show()"
   ]
  },
  {
   "cell_type": "markdown",
   "metadata": {},
   "source": [
    "####  Southern Hemisphere - Cloudiness (%) vs. Latitude Linear Regression"
   ]
  },
  {
   "cell_type": "code",
   "execution_count": null,
   "metadata": {},
   "outputs": [],
   "source": [
    "x_val = South[\"Latitude\"]\n",
    "y_val = South[\"Cloudiness\"]\n",
    "\n",
    "slope, intercept, regress, p, std_err = st.linregress(x_val,y_val)\n",
    "\n",
    "regress_values = x_val * slope + intercept\n",
    "\n",
    "Equation = \"y = \" + str(round(slope,2)) + \"x + \" + str(round(intercept,2))\n",
    "\n",
    "plt.scatter(x_val,y_val)\n",
    "\n",
    "plt.plot(x_val,regress_values,\"g-\")\n",
    "\n",
    "plt.xlabel(\"Latitude\")\n",
    "\n",
    "plt.ylabel(\"Cloudiness (%)\")\n",
    "\n",
    "plt.title(\"Southern - City Latitude vs. Cloudiness (%)\")\n",
    "\n",
    "plt.annotate(Equation,(-80,36),fontsize=15,color=\"green\")\n",
    "\n",
    "plt.show()"
   ]
  },
  {
   "cell_type": "markdown",
   "metadata": {},
   "source": [
    "####  Northern Hemisphere - Wind Speed (mph) vs. Latitude Linear Regression"
   ]
  },
  {
   "cell_type": "code",
   "execution_count": null,
   "metadata": {},
   "outputs": [],
   "source": [
    "x_val = North[\"Latitude\"]\n",
    "y_val = North[\"Wind Speed\"]\n",
    "\n",
    "slope, intercept, regress, p, std_err = st.linregress(x_val,y_val)\n",
    "\n",
    "regress_values = x_val * slope + intercept\n",
    "\n",
    "Equation = \"y = \" + str(round(slope,2)) + \"x + \" + str(round(intercept,2))\n",
    "\n",
    "plt.scatter(x_val,y_val)\n",
    "\n",
    "plt.plot(x_val,regress_values,\"g-\")\n",
    "\n",
    "plt.xlabel(\"Latitude\")\n",
    "\n",
    "plt.ylabel(\"Wind Speed (mph)\")\n",
    "\n",
    "plt.title(\"City Latitude vs. Wind Speed (mph)\")\n",
    "\n",
    "plt.annotate(Equation,(20,10),fontsize=15,color=\"green\")\n",
    "\n",
    "plt.show()"
   ]
  },
  {
   "cell_type": "markdown",
   "metadata": {},
   "source": [
    "####  Southern Hemisphere - Wind Speed (mph) vs. Latitude Linear Regression"
   ]
  },
  {
   "cell_type": "code",
   "execution_count": null,
   "metadata": {},
   "outputs": [],
   "source": [
    "x_val = South[\"Latitude\"]\n",
    "y_val = South[\"Wind Speed\"]\n",
    "\n",
    "slope, intercept, regress, p, std_err = st.linregress(x_val,y_val)\n",
    "\n",
    "regress_values = x_val * slope + intercept\n",
    "\n",
    "Equation = \"y = \" + str(round(slope,2)) + \"x + \" + str(round(intercept,2))\n",
    "\n",
    "plt.scatter(x_val,y_val)\n",
    "\n",
    "plt.plot(x_val,regress_values,\"g-\")\n",
    "\n",
    "plt.xlabel(\"Latitude\")\n",
    "\n",
    "plt.ylabel(\"Wind Speed\")\n",
    "\n",
    "plt.title(\"Southern - City Latitude vs. Wind Speed\")\n",
    "\n",
    "plt.annotate(Equation,(-80,2),fontsize=15,color=\"green\")\n",
    "\n",
    "plt.show()"
   ]
  },
  {
   "cell_type": "code",
   "execution_count": null,
   "metadata": {},
   "outputs": [],
   "source": []
  },
  {
   "cell_type": "code",
   "execution_count": null,
   "metadata": {},
   "outputs": [],
   "source": []
  }
 ],
 "metadata": {
  "anaconda-cloud": {},
  "kernel_info": {
   "name": "python3"
  },
  "kernelspec": {
   "display_name": "Python 3",
   "language": "python",
   "name": "python3"
  },
  "language_info": {
   "codemirror_mode": {
    "name": "ipython",
    "version": 3
   },
   "file_extension": ".py",
   "mimetype": "text/x-python",
   "name": "python",
   "nbconvert_exporter": "python",
   "pygments_lexer": "ipython3",
   "version": "3.8.8"
  },
  "latex_envs": {
   "LaTeX_envs_menu_present": true,
   "autoclose": false,
   "autocomplete": true,
   "bibliofile": "biblio.bib",
   "cite_by": "apalike",
   "current_citInitial": 1,
   "eqLabelWithNumbers": true,
   "eqNumInitial": 1,
   "hotkeys": {
    "equation": "Ctrl-E",
    "itemize": "Ctrl-I"
   },
   "labels_anchors": false,
   "latex_user_defs": false,
   "report_style_numbering": false,
   "user_envs_cfg": false
  },
  "nteract": {
   "version": "0.12.3"
  }
 },
 "nbformat": 4,
 "nbformat_minor": 2
}
